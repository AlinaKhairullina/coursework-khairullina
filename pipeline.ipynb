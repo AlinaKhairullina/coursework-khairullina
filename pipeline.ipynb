{
 "cells": [
  {
   "cell_type": "code",
   "execution_count": 2,
   "metadata": {},
   "outputs": [],
   "source": [
    "import nltk\n",
    "from nltk.corpus import wordnet\n",
    "from nltk.stem import WordNetLemmatizer\n",
    "\n",
    "import wget\n",
    "from langchain.vectorstores import Qdrant\n",
    "from langchain.chains import RetrievalQA\n",
    "from langchain.embeddings import HuggingFaceEmbeddings\n",
    "from transformers import BertTokenizer, BertForQuestionAnswering\n",
    "import torch\n",
    "import os\n",
    "\n"
   ]
  },
  {
   "cell_type": "markdown",
   "metadata": {},
   "source": [
    "### Функция формализации вопроса\n"
   ]
  },
  {
   "cell_type": "code",
   "execution_count": null,
   "metadata": {},
   "outputs": [],
   "source": [
    "def get_pos(tag):\n",
    "    if tag.startswith('J'):\n",
    "        return wordnet.ADJ\n",
    "    elif tag.startswith('V'):\n",
    "        return wordnet.VERB\n",
    "    elif tag.startswith('N'):\n",
    "        return wordnet.NOUN\n",
    "    elif tag.startswith('R'):\n",
    "        return wordnet.ADV\n",
    "    else:\n",
    "        return wordnet.NOUN \n",
    "\n",
    "def question_formalizer(question):\n",
    "    words = nltk.word_tokenize(question, language='english')\n",
    "    words_tags = nltk.pos_tag(words, lang='eng')\n",
    "    nltk_lemmatizer = WordNetLemmatizer()\n",
    "    lemmatize_text = [nltk_lemmatizer.lemmatize(word, get_pos(tag)) for word, tag in words_tags]\n",
    "    stop_words = ['IMHO', 'imho', 'LOL', 'lol', 'FYI', 'fyi','ASAP', 'asap']\n",
    "    for stop in stop_words:\n",
    "        if stop in lemmatize_text:\n",
    "            lemmatize_text.remove(stop)\n",
    "    return ' '.join(lemmatize_text)\n"
   ]
  },
  {
   "cell_type": "code",
   "execution_count": null,
   "metadata": {},
   "outputs": [],
   "source": []
  },
  {
   "cell_type": "code",
   "execution_count": null,
   "metadata": {},
   "outputs": [],
   "source": [
    "doc_store = Qdrant.from_documents(\n",
    "    # documents,\n",
    "    # embedding,\n",
    "    location=\":memory:\",\n",
    "    collection_name=\"docs\",\n",
    ")"
   ]
  }
 ],
 "metadata": {
  "kernelspec": {
   "display_name": "my",
   "language": "python",
   "name": "python3"
  },
  "language_info": {
   "codemirror_mode": {
    "name": "ipython",
    "version": 3
   },
   "file_extension": ".py",
   "mimetype": "text/x-python",
   "name": "python",
   "nbconvert_exporter": "python",
   "pygments_lexer": "ipython3",
   "version": "3.12.3"
  }
 },
 "nbformat": 4,
 "nbformat_minor": 2
}
